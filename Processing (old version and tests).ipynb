{
 "cells": [
  {
   "cell_type": "markdown",
   "metadata": {},
   "source": [
    "#### IMPORT"
   ]
  },
  {
   "cell_type": "code",
   "execution_count": 2,
   "metadata": {},
   "outputs": [],
   "source": [
    "import pandas as pd\n",
    "import numpy as np\n",
    "import matplotlib.pyplot as plt\n",
    "%matplotlib inline\n",
    "\n",
    "\n",
    "\n",
    "\n",
    "#CONSTANTES\n",
    "\n",
    "Nb_partie_corps = 20"
   ]
  },
  {
   "cell_type": "markdown",
   "metadata": {},
   "source": [
    "#### DATA PREPROCESSING\n"
   ]
  },
  {
   "cell_type": "code",
   "execution_count": 3,
   "metadata": {},
   "outputs": [
    {
     "name": "stdout",
     "output_type": "stream",
     "text": [
      "(2295, 148)\n"
     ]
    }
   ],
   "source": [
    "raw_data=pd.read_csv(\"test_ariane50_06\\data.TXT\")\n",
    "\n",
    "print(raw_data.shape)\n",
    "indexes=raw_data.index\n",
    "raw_data['Name'][1] = 'Type'\n",
    "raw_data.set_index([indexes,'Name'], inplace=True)"
   ]
  },
  {
   "cell_type": "code",
   "execution_count": 4,
   "metadata": {},
   "outputs": [
    {
     "name": "stdout",
     "output_type": "stream",
     "text": [
      "                     ariane50:Hip ariane50:Hip.1 ariane50:Hip.2  \\\n",
      "      Name                                                        \n",
      "NaN   ID                        1              1              1   \n",
      "      Type               Rotation       Rotation       Rotation   \n",
      "Frame Time (Seconds)            X              Y              Z   \n",
      "0     0.000000           0.037553       0.679249       0.018912   \n",
      "1     0.008333           0.038166       0.679190       0.019114   \n",
      "\n",
      "                     ariane50:Hip.3 ariane50:Hip.4 ariane50:Hip.5  \\\n",
      "      Name                                                          \n",
      "NaN   ID                          1              1              1   \n",
      "      Type                 Rotation       Position       Position   \n",
      "Frame Time (Seconds)              W              X              Y   \n",
      "0     0.000000            -0.732703       0.583330       0.850491   \n",
      "1     0.008333            -0.732721       0.583077       0.850578   \n",
      "\n",
      "                     ariane50:Hip.6 ariane50:Ab ariane50:Ab.1 ariane50:Ab.2  \\\n",
      "      Name                                                                    \n",
      "NaN   ID                          1           2             2             2   \n",
      "      Type                 Position    Rotation      Rotation      Rotation   \n",
      "Frame Time (Seconds)              Z           X             Y             Z   \n",
      "0     0.000000            -0.143188    0.039824      0.681396      0.038573   \n",
      "1     0.008333            -0.142985    0.040532      0.681152      0.038453   \n",
      "\n",
      "                      ... ariane50:LToe.4 ariane50:LToe.5 ariane50:LToe.6  \\\n",
      "      Name            ...                                                   \n",
      "NaN   ID              ...              11              11              11   \n",
      "      Type            ...        Position        Position        Position   \n",
      "Frame Time (Seconds)  ...               X               Y               Z   \n",
      "0     0.000000        ...        0.500400        0.028442       -0.080194   \n",
      "1     0.008333        ...        0.500410        0.028429       -0.080190   \n",
      "\n",
      "                     ariane50:RToe ariane50:RToe.1 ariane50:RToe.2  \\\n",
      "      Name                                                           \n",
      "NaN   ID                        15              15              15   \n",
      "      Type                Rotation        Rotation        Rotation   \n",
      "Frame Time (Seconds)             X               Y               Z   \n",
      "0     0.000000            0.050320        0.631110       -0.017785   \n",
      "1     0.008333            0.050309        0.631432       -0.017392   \n",
      "\n",
      "                     ariane50:RToe.3 ariane50:RToe.4 ariane50:RToe.5  \\\n",
      "      Name                                                             \n",
      "NaN   ID                          15              15              15   \n",
      "      Type                  Rotation        Position        Position   \n",
      "Frame Time (Seconds)               W               X               Y   \n",
      "0     0.000000             -0.773855        0.516557        0.038608   \n",
      "1     0.008333             -0.773602        0.516507        0.038584   \n",
      "\n",
      "                     ariane50:RToe.6  \n",
      "      Name                            \n",
      "NaN   ID                          15  \n",
      "      Type                  Position  \n",
      "Frame Time (Seconds)               Z  \n",
      "0     0.000000             -0.193574  \n",
      "1     0.008333             -0.193527  \n",
      "\n",
      "[5 rows x 147 columns]\n"
     ]
    }
   ],
   "source": [
    "print(raw_data.head())"
   ]
  },
  {
   "cell_type": "code",
   "execution_count": 5,
   "metadata": {},
   "outputs": [],
   "source": [
    "dict_point = {}\n",
    "for col in raw_data.columns:\n",
    "\n",
    "    dict = {'BP_ID': raw_data[col].iloc[0],'Type':raw_data[col].iloc[1] ,'Axis':raw_data[col].iloc[2]}\n",
    "    dict_point[col] = dict    #all the data is stocked with the key equal to the column name\n",
    "\n",
    "#Dataframe of the columns infos\n",
    "col_info = pd.DataFrame(dict_point)\n",
    "\n",
    "#Dataframe of the values cleaned\n",
    "values = raw_data.iloc[3:]\n",
    "values = values.rename_axis(['Frame', 'Time'])\n",
    "\n",
    "values.to_csv('values.csv')\n",
    "col_info.to_csv('col_info.csv')"
   ]
  },
  {
   "cell_type": "code",
   "execution_count": 6,
   "metadata": {},
   "outputs": [
    {
     "name": "stdout",
     "output_type": "stream",
     "text": [
      "{'Hip': 0, 'Ab': 1, 'Chest': 2, 'Neck': 3, 'Head': 4, 'LShoulder': 5, 'LUArm': 6, 'LFArm': 7, 'LHand': 8, 'RShoulder': 9, 'RUArm': 10, 'RFArm': 11, 'RHand': 12, 'LThigh': 13, 'LShin': 14, 'LFoot': 15, 'RThigh': 16, 'RShin': 17, 'RFoot': 18, 'LToe': 19, 'RToe': 20}\n"
     ]
    }
   ],
   "source": [
    "mult7 = [7*i for i in range(147//7)]\n",
    "nom_partie_corps = col_info.columns[mult7]\n",
    "nom_partie_corps = [partie[9:] for partie in nom_partie_corps]\n",
    "dict = { nom_partie_corps[i] : i  for i in range(len(nom_partie_corps))}\n",
    "print(dict)\n"
   ]
  },
  {
   "cell_type": "code",
   "execution_count": null,
   "metadata": {},
   "outputs": [],
   "source": [
    "\n",
    "#CREATION DE TABLEAU SOUS LA FORME X Y Z M L N W\n",
    "list_data = []\n",
    "\n",
    "for idx in range(Nb_partie_corps):\n",
    "\n",
    "    #RECUPERATION DES COLONNES\n",
    "    RotX = values.iloc[:, 7*idx]\n",
    "    RotY = values.iloc[:, 7*idx +1]\n",
    "    RotZ = values.iloc[:, 7*idx +2]\n",
    "    RotW = values.iloc[:, 7*idx +3]\n",
    "    TransX = values.iloc[:, 7*idx +4]\n",
    "    TransY = values.iloc[:, 7*idx +5]\n",
    "    TransZ = values.iloc[:, 7*idx +6]\n",
    "\n",
    "    #CREATION DATAFRAME\n",
    "    df = pd.DataFrame([TransX, TransY, TransZ, RotX, RotY, RotZ, RotW] )\n",
    "    df1 = df.transpose()\n",
    "    df1.columns = [\"TransX\", \"TransY\", \"TransZ\", \"RotX\", \"RotY\", \"RotZ\", \"RotW\"]\n",
    "\n",
    "    #LISTE DE DATAFRAME 1 DATAFRAME = 1 PARTIE DE CORPS\n",
    "    list_data.append(df1)\n",
    "\n",
    "\n",
    "subplot()\n",
    "\n",
    "for i in range(df1.shape[1]):\n",
    "\n",
    "\n",
    "\n"
   ]
  },
  {
   "cell_type": "code",
   "execution_count": 52,
   "metadata": {},
   "outputs": [],
   "source": [
    "df1 = pd.DataFrame()\n",
    "df2 = pd.DataFrame()\n",
    "list = []\n",
    "\n",
    "list.append(df1)\n",
    "list.append(df2)"
   ]
  },
  {
   "cell_type": "code",
   "execution_count": 31,
   "metadata": {},
   "outputs": [
    {
     "name": "stdout",
     "output_type": "stream",
     "text": [
      "                             X         Y         Z         W       X.1  \\\n",
      "Frame Time (Seconds)                                                     \n",
      "0     0.000000        0.013075  0.707944 -0.014551 -0.705997  0.558170   \n",
      "1     0.008333        0.010669  0.707511 -0.015814 -0.706445  0.559106   \n",
      "2     0.016667        0.013366  0.707237 -0.014369 -0.706704  0.558150   \n",
      "3     0.025000        0.010097  0.706391 -0.013611 -0.707619  0.558173   \n",
      "4     0.033333        0.007952  0.706319 -0.015955 -0.707669  0.559189   \n",
      "...                        ...       ...       ...       ...       ...   \n",
      "8667  72.225000       0.001529  0.771752  0.006752 -0.635886  0.790135   \n",
      "8668  72.233333       0.018863  0.770808  0.017553 -0.636546  0.791004   \n",
      "8669  72.241667       0.018952  0.770112  0.015425 -0.637441  0.794888   \n",
      "8670  72.250000       0.001763  0.769319  0.001397 -0.638861  0.801657   \n",
      "8671  72.258333       0.019641  0.768339  0.011460 -0.639639  0.802859   \n",
      "\n",
      "                           Y.1       Z.1       X.2       Y.2       Z.2  ...  \\\n",
      "Frame Time (Seconds)                                                    ...   \n",
      "0     0.000000        0.738600  0.690247  0.015060  0.695409  0.007100  ...   \n",
      "1     0.008333        0.739434  0.690439  0.014831  0.695024  0.005873  ...   \n",
      "2     0.016667        0.738750  0.690581  0.016304  0.694752  0.007487  ...   \n",
      "3     0.025000        0.738436  0.690571  0.017963  0.694354  0.007696  ...   \n",
      "4     0.033333        0.739279  0.691006  0.017997  0.694119  0.006314  ...   \n",
      "...                        ...       ...       ...       ...       ...  ...   \n",
      "8667  72.225000       0.739179  0.016726  0.014058  0.766305  0.017286  ...   \n",
      "8668  72.233333       0.737215  0.015841  0.013648  0.762032  0.021602  ...   \n",
      "8669  72.241667       0.736827  0.015891  0.012400  0.760510  0.018557  ...   \n",
      "8670  72.250000       0.738007  0.016621  0.014669  0.757578  0.016026  ...   \n",
      "8671  72.258333       0.735884  0.015921  0.012084  0.754674  0.016880  ...   \n",
      "\n",
      "                          X.39      Y.39      Z.39      X.40      Y.40  \\\n",
      "Frame Time (Seconds)                                                     \n",
      "0     0.000000        0.493001 -0.002912  0.737899  0.003686  0.811601   \n",
      "1     0.008333        0.494077 -0.006306  0.739852  0.003591  0.811650   \n",
      "2     0.016667        0.493402 -0.003798  0.738177  0.003514  0.811744   \n",
      "3     0.025000        0.492396  0.000110  0.736058  0.003693  0.811797   \n",
      "4     0.033333        0.493540 -0.003813  0.738031  0.003739  0.811898   \n",
      "...                        ...       ...       ...       ...       ...   \n",
      "8667  72.225000       0.639053 -0.008097  0.041989 -0.010701  0.805472   \n",
      "8668  72.233333       0.638962 -0.008059  0.042108 -0.006795  0.803518   \n",
      "8669  72.241667       0.640004 -0.007111  0.041733 -0.006196  0.800632   \n",
      "8670  72.250000       0.640002 -0.006949  0.041722 -0.003203  0.798181   \n",
      "8671  72.258333       0.639900 -0.006808  0.042029  0.000991  0.796359   \n",
      "\n",
      "                          Z.40      W.20      X.41      Y.41      Z.41  \n",
      "Frame Time (Seconds)                                                    \n",
      "0     0.000000        0.005253 -0.584176  0.554388  0.004686  0.642014  \n",
      "1     0.008333        0.005500 -0.584107  0.554401  0.004676  0.641995  \n",
      "2     0.016667        0.005805 -0.583975  0.554398  0.004668  0.641949  \n",
      "3     0.025000        0.006005 -0.583898  0.554401  0.004646  0.641942  \n",
      "4     0.033333        0.006033 -0.583757  0.554405  0.004637  0.641944  \n",
      "...                        ...       ...       ...       ...       ...  \n",
      "8667  72.225000      -0.270968 -0.526950  0.995623  0.050197 -0.030839  \n",
      "8668  72.233333      -0.260635 -0.535146  1.002344  0.047924 -0.028594  \n",
      "8669  72.241667      -0.249072 -0.544897  1.007706  0.044966 -0.026898  \n",
      "8670  72.250000      -0.235169 -0.554610  1.012060  0.041370 -0.025366  \n",
      "8671  72.258333      -0.217420 -0.564393  1.015203  0.036931 -0.024151  \n",
      "\n",
      "[8672 rows x 147 columns]\n"
     ]
    }
   ],
   "source": [
    "test_df = pd.read_csv(\"./raw_csv_data/Fosco chen31 mouv1.csv\", skiprows=6)\n",
    "\n",
    "test_df.set_index([\"Frame\",'Time (Seconds)'], inplace=True)\n",
    "print(test_df)"
   ]
  }
 ],
 "metadata": {
  "kernelspec": {
   "display_name": "Python 3.9.6 64-bit",
   "language": "python",
   "name": "python3"
  },
  "language_info": {
   "codemirror_mode": {
    "name": "ipython",
    "version": 3
   },
   "file_extension": ".py",
   "mimetype": "text/x-python",
   "name": "python",
   "nbconvert_exporter": "python",
   "pygments_lexer": "ipython3",
   "version": "3.9.6"
  },
  "orig_nbformat": 4,
  "vscode": {
   "interpreter": {
    "hash": "a771b7766c439f167a85454aa45440eda3d18649461135719fffb2235b2f5b6b"
   }
  }
 },
 "nbformat": 4,
 "nbformat_minor": 2
}
