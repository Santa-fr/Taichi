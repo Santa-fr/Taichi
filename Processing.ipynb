{
 "cells": [
  {
   "cell_type": "markdown",
   "metadata": {},
   "source": [
    "#### IMPORT"
   ]
  },
  {
   "cell_type": "code",
   "execution_count": 48,
   "metadata": {},
   "outputs": [],
   "source": [
    "import pandas as pd\n",
    "import numpy as np\n",
    "import matplotlib.pyplot as plt\n",
    "%matplotlib inline\n",
    "\n",
    "\n",
    "\n",
    "\n",
    "#CONSTANTES\n",
    "\n",
    "Nb_partie_corps = 20"
   ]
  },
  {
   "cell_type": "markdown",
   "metadata": {},
   "source": [
    "#### DATA PREPROCESSING\n"
   ]
  },
  {
   "cell_type": "code",
   "execution_count": 2,
   "metadata": {},
   "outputs": [
    {
     "name": "stdout",
     "output_type": "stream",
     "text": [
      "(2295, 148)\n"
     ]
    }
   ],
   "source": [
    "raw_data=pd.read_csv(\"test_ariane50_06\\data.TXT\")\n",
    "\n",
    "print(raw_data.shape)\n",
    "indexes=raw_data.index\n",
    "raw_data['Name'][1] = 'Type'\n",
    "raw_data.set_index([indexes,'Name'], inplace=True)"
   ]
  },
  {
   "cell_type": "code",
   "execution_count": 3,
   "metadata": {},
   "outputs": [
    {
     "name": "stdout",
     "output_type": "stream",
     "text": [
      "                     ariane50:Hip ariane50:Hip.1 ariane50:Hip.2  \\\n",
      "      Name                                                        \n",
      "NaN   ID                        1              1              1   \n",
      "      Type               Rotation       Rotation       Rotation   \n",
      "Frame Time (Seconds)            X              Y              Z   \n",
      "0     0.000000           0.037553       0.679249       0.018912   \n",
      "1     0.008333           0.038166       0.679190       0.019114   \n",
      "\n",
      "                     ariane50:Hip.3 ariane50:Hip.4 ariane50:Hip.5  \\\n",
      "      Name                                                          \n",
      "NaN   ID                          1              1              1   \n",
      "      Type                 Rotation       Position       Position   \n",
      "Frame Time (Seconds)              W              X              Y   \n",
      "0     0.000000            -0.732703       0.583330       0.850491   \n",
      "1     0.008333            -0.732721       0.583077       0.850578   \n",
      "\n",
      "                     ariane50:Hip.6 ariane50:Ab ariane50:Ab.1 ariane50:Ab.2  \\\n",
      "      Name                                                                    \n",
      "NaN   ID                          1           2             2             2   \n",
      "      Type                 Position    Rotation      Rotation      Rotation   \n",
      "Frame Time (Seconds)              Z           X             Y             Z   \n",
      "0     0.000000            -0.143188    0.039824      0.681396      0.038573   \n",
      "1     0.008333            -0.142985    0.040532      0.681152      0.038453   \n",
      "\n",
      "                      ... ariane50:LToe.4 ariane50:LToe.5 ariane50:LToe.6  \\\n",
      "      Name            ...                                                   \n",
      "NaN   ID              ...              11              11              11   \n",
      "      Type            ...        Position        Position        Position   \n",
      "Frame Time (Seconds)  ...               X               Y               Z   \n",
      "0     0.000000        ...        0.500400        0.028442       -0.080194   \n",
      "1     0.008333        ...        0.500410        0.028429       -0.080190   \n",
      "\n",
      "                     ariane50:RToe ariane50:RToe.1 ariane50:RToe.2  \\\n",
      "      Name                                                           \n",
      "NaN   ID                        15              15              15   \n",
      "      Type                Rotation        Rotation        Rotation   \n",
      "Frame Time (Seconds)             X               Y               Z   \n",
      "0     0.000000            0.050320        0.631110       -0.017785   \n",
      "1     0.008333            0.050309        0.631432       -0.017392   \n",
      "\n",
      "                     ariane50:RToe.3 ariane50:RToe.4 ariane50:RToe.5  \\\n",
      "      Name                                                             \n",
      "NaN   ID                          15              15              15   \n",
      "      Type                  Rotation        Position        Position   \n",
      "Frame Time (Seconds)               W               X               Y   \n",
      "0     0.000000             -0.773855        0.516557        0.038608   \n",
      "1     0.008333             -0.773602        0.516507        0.038584   \n",
      "\n",
      "                     ariane50:RToe.6  \n",
      "      Name                            \n",
      "NaN   ID                          15  \n",
      "      Type                  Position  \n",
      "Frame Time (Seconds)               Z  \n",
      "0     0.000000             -0.193574  \n",
      "1     0.008333             -0.193527  \n",
      "\n",
      "[5 rows x 147 columns]\n"
     ]
    }
   ],
   "source": [
    "print(raw_data.head())"
   ]
  },
  {
   "cell_type": "code",
   "execution_count": 5,
   "metadata": {},
   "outputs": [],
   "source": [
    "dict_point = {}\n",
    "for col in raw_data.columns:\n",
    "\n",
    "    dict = {'BP_ID': raw_data[col].iloc[0],'Type':raw_data[col].iloc[1] ,'Axis':raw_data[col].iloc[2]}\n",
    "    dict_point[col] = dict    #all the data is stocked with the key equal to the column name\n",
    "\n",
    "#Dataframe of the columns infos\n",
    "col_info = pd.DataFrame(dict_point)\n",
    "\n",
    "#Dataframe of the values cleaned\n",
    "values = raw_data.iloc[3:]\n",
    "values = values.rename_axis(['Frame', 'Time'])\n",
    "\n",
    "values.to_csv('values.csv')\n",
    "col_info.to_csv('col_info.csv')"
   ]
  },
  {
   "cell_type": "code",
   "execution_count": 50,
   "metadata": {},
   "outputs": [
    {
     "name": "stdout",
     "output_type": "stream",
     "text": [
      "{'Hip': 0, 'Ab': 1, 'Chest': 2, 'Neck': 3, 'Head': 4, 'LShoulder': 5, 'LUArm': 6, 'LFArm': 7, 'LHand': 8, 'RShoulder': 9, 'RUArm': 10, 'RFArm': 11, 'RHand': 12, 'LThigh': 13, 'LShin': 14, 'LFoot': 15, 'RThigh': 16, 'RShin': 17, 'RFoot': 18, 'LToe': 19, 'RToe': 20}\n"
     ]
    }
   ],
   "source": [
    "mult7 = [7*i for i in range(147//7)]\n",
    "nom_partie_corps = col_info.columns[mult7]\n",
    "nom_partie_corps = [partie[9:] for partie in nom_partie_corps]\n",
    "dict = { nom_partie_corps[i] : i  for i in range(len(nom_partie_corps))}\n",
    "print(dict)\n"
   ]
  },
  {
   "cell_type": "code",
   "execution_count": null,
   "metadata": {},
   "outputs": [],
   "source": [
    "\n",
    "#CREATION DE TABLEAU SOUS LA FORME X Y Z M L N W\n",
    "list_data = []\n",
    "\n",
    "for idx in range(Nb_partie_corps):\n",
    "\n",
    "    #RECUPERATION DES COLONNES\n",
    "    RotX = values.iloc[:, 7*idx]\n",
    "    RotY = values.iloc[:, 7*idx +1]\n",
    "    RotZ = values.iloc[:, 7*idx +2]\n",
    "    RotW = values.iloc[:, 7*idx +3]\n",
    "    TransX = values.iloc[:, 7*idx +4]\n",
    "    TransY = values.iloc[:, 7*idx +5]\n",
    "    TransZ = values.iloc[:, 7*idx +6]\n",
    "\n",
    "    #CREATION DATAFRAME\n",
    "    df = pd.DataFrame([TransX, TransY, TransZ, RotX, RotY, RotZ, RotW] )\n",
    "    df1 = df.transpose()\n",
    "    df1.columns = [\"TransX\", \"TransY\", \"TransZ\", \"RotX\", \"RotY\", \"RotZ\", \"RotW\"]\n",
    "\n",
    "    #LISTE DE DATAFRAME 1 DATAFRAME = 1 PARTIE DE CORPS\n",
    "    list_data.append(df1)\n",
    "\n",
    "\n",
    "subplot()\n",
    "\n",
    "for i in range(df1.shape[1]):\n",
    "\n",
    "\n",
    "\n"
   ]
  },
  {
   "cell_type": "code",
   "execution_count": 52,
   "metadata": {},
   "outputs": [],
   "source": [
    "df1 = pd.DataFrame()\n",
    "df2 = pd.DataFrame()\n",
    "list = []\n",
    "\n",
    "list.append(df1)\n",
    "list.append(df2)"
   ]
  }
 ],
 "metadata": {
  "kernelspec": {
   "display_name": "Python 3.9.6 64-bit",
   "language": "python",
   "name": "python3"
  },
  "language_info": {
   "codemirror_mode": {
    "name": "ipython",
    "version": 3
   },
   "file_extension": ".py",
   "mimetype": "text/x-python",
   "name": "python",
   "nbconvert_exporter": "python",
   "pygments_lexer": "ipython3",
   "version": "3.9.6"
  },
  "orig_nbformat": 4,
  "vscode": {
   "interpreter": {
    "hash": "a771b7766c439f167a85454aa45440eda3d18649461135719fffb2235b2f5b6b"
   }
  }
 },
 "nbformat": 4,
 "nbformat_minor": 2
}
